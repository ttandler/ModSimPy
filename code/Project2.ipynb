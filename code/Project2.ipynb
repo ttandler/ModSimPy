{
 "cells": [
  {
   "cell_type": "code",
   "execution_count": 1,
   "metadata": {},
   "outputs": [],
   "source": [
    "# Configure Jupyter so figures appear in the notebook\n",
    "%matplotlib inline\n",
    "\n",
    "# Configure Jupyter to display the assigned value after an assignment\n",
    "%config InteractiveShell.ast_node_interactivity='last_expr_or_assign'\n",
    "\n",
    "# import functions from the modsim.py module\n",
    "from modsim import *"
   ]
  },
  {
   "cell_type": "markdown",
   "metadata": {},
   "source": [
    "http://www.worldometers.info/world-population/us-population/ -- US pop in 2017 = 324,459,463\n",
    "https://www.cdc.gov/vaccines/imz-managers/coverage/childvaxview/data-reports/mmr/trend/index.html -- MMR immunization rate in 2017 = 90.7%"
   ]
  },
  {
   "cell_type": "code",
   "execution_count": 2,
   "metadata": {},
   "outputs": [
    {
     "data": {
      "text/plain": [
       "0.907"
      ]
     },
     "execution_count": 2,
     "metadata": {},
     "output_type": "execute_result"
    }
   ],
   "source": [
    "US_pop = 324,459,463 #US population in 2017\n",
    "MMR_vac = .907 #MMR vaccination rate in 2017\n",
    "attack_rate = 0.9 #Possibility of getting measles if you come into contact with someone that has it"
   ]
  },
  {
   "cell_type": "code",
   "execution_count": 5,
   "metadata": {},
   "outputs": [],
   "source": [
    "def make_system (alpha, beta, gamma, omega):\n",
    "    \"\"\"Make a system object for the SIR model\n",
    "    \n",
    "    alpha = birth rate in days\n",
    "    beta = contact number in days\n",
    "    gamma = recovery rate\n",
    "    omega = death rate\n",
    "    \n",
    "    return: System object\"\"\"\n",
    "    \n",
    "    init = State(S= (US_pop*(1 - MMR_vac)), I = I, R = US_pop*MMR_vac)\n",
    "    \n",
    "    t0 = 0\n",
    "    t_end = 365 * 10 #number of days in 10 years\n",
    "    \n",
    "    return System (alpha=alpha, beta=beta, gamma=gamma, omega=omega,\n",
    "                   ini=init, t0=t0, t_end=t_end)"
   ]
  },
  {
   "cell_type": "code",
   "execution_count": 6,
   "metadata": {},
   "outputs": [],
   "source": [
    "def update_func(state, t, system, vac_rate):\n",
    "    \"\"\"Update the SIT model\n",
    "    \n",
    "    state: starting variables of SIR\n",
    "    t: time step\n",
    "    system: includes alpha,beta,gamma,omega rates\"\"\"\n",
    "    \n",
    "    s,i,r = state\n",
    "    \n",
    "    current_pop = s+i+r\n",
    "    newborn = system.alpha * (current_pop)\n",
    "    s += newborn * (1-vac_rate) - system.omega * s\n",
    "    r += newborn * vac_rate - system.omega * r\n",
    "    i += system.beta * i * attack_rate * (s/s+r)\n",
    "    \n",
    "    return State = "
   ]
  },
  {
   "cell_type": "code",
   "execution_count": null,
   "metadata": {},
   "outputs": [],
   "source": []
  }
 ],
 "metadata": {
  "kernelspec": {
   "display_name": "Python 3",
   "language": "python",
   "name": "python3"
  },
  "language_info": {
   "codemirror_mode": {
    "name": "ipython",
    "version": 3
   },
   "file_extension": ".py",
   "mimetype": "text/x-python",
   "name": "python",
   "nbconvert_exporter": "python",
   "pygments_lexer": "ipython3",
   "version": "3.6.5"
  }
 },
 "nbformat": 4,
 "nbformat_minor": 2
}
