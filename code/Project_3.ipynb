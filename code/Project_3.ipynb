{
 "cells": [
  {
   "cell_type": "code",
   "execution_count": 1,
   "metadata": {},
   "outputs": [],
   "source": [
    "# Configure Jupyter so figures appear in the notebook\n",
    "%matplotlib inline\n",
    "\n",
    "# Configure Jupyter to display the assigned value after an assignment\n",
    "%config InteractiveShell.ast_node_interactivity='last_expr_or_assign'\n",
    "\n",
    "# import functions from the modsim.py module\n",
    "from modsim import *"
   ]
  },
  {
   "cell_type": "code",
   "execution_count": 30,
   "metadata": {},
   "outputs": [
    {
     "data": {
      "text/html": [
       "radian"
      ],
      "text/latex": [
       "$radian$"
      ],
      "text/plain": [
       "<Unit('radian')>"
      ]
     },
     "execution_count": 30,
     "metadata": {},
     "output_type": "execute_result"
    }
   ],
   "source": [
    "m = UNITS.meter\n",
    "s = UNITS.second\n",
    "kg = UNITS.kilogram\n",
    "N = UNITS.newton\n",
    "degree = UNITS.degree\n",
    "radian = UNITS.radian"
   ]
  },
  {
   "cell_type": "code",
   "execution_count": 50,
   "metadata": {},
   "outputs": [
    {
     "data": {
      "text/html": [
       "<div>\n",
       "<style scoped>\n",
       "    .dataframe tbody tr th:only-of-type {\n",
       "        vertical-align: middle;\n",
       "    }\n",
       "\n",
       "    .dataframe tbody tr th {\n",
       "        vertical-align: top;\n",
       "    }\n",
       "\n",
       "    .dataframe thead th {\n",
       "        text-align: right;\n",
       "    }\n",
       "</style>\n",
       "<table border=\"1\" class=\"dataframe\">\n",
       "  <thead>\n",
       "    <tr style=\"text-align: right;\">\n",
       "      <th></th>\n",
       "      <th>values</th>\n",
       "    </tr>\n",
       "  </thead>\n",
       "  <tbody>\n",
       "    <tr>\n",
       "      <th>h_0_clay</th>\n",
       "      <td>1 meter</td>\n",
       "    </tr>\n",
       "    <tr>\n",
       "      <th>h_0_apple</th>\n",
       "      <td>30 meter</td>\n",
       "    </tr>\n",
       "    <tr>\n",
       "      <th>mass_clay</th>\n",
       "      <td>0.205 kilogram</td>\n",
       "    </tr>\n",
       "    <tr>\n",
       "      <th>mass_apple</th>\n",
       "      <td>0.205 kilogram</td>\n",
       "    </tr>\n",
       "    <tr>\n",
       "      <th>area_clay</th>\n",
       "      <td>0.008635 meter ** 2</td>\n",
       "    </tr>\n",
       "    <tr>\n",
       "      <th>area_apple</th>\n",
       "      <td>0.008635 meter ** 2</td>\n",
       "    </tr>\n",
       "    <tr>\n",
       "      <th>g</th>\n",
       "      <td>9.8 meter / second ** 2</td>\n",
       "    </tr>\n",
       "    <tr>\n",
       "      <th>rho</th>\n",
       "      <td>1.2 kilogram / meter ** 3</td>\n",
       "    </tr>\n",
       "    <tr>\n",
       "      <th>t_0</th>\n",
       "      <td>0 second</td>\n",
       "    </tr>\n",
       "    <tr>\n",
       "      <th>t_end</th>\n",
       "      <td>30 second</td>\n",
       "    </tr>\n",
       "    <tr>\n",
       "      <th>angle</th>\n",
       "      <td>45 degree</td>\n",
       "    </tr>\n",
       "    <tr>\n",
       "      <th>v_init_clay</th>\n",
       "      <td>20.0 meter / second</td>\n",
       "    </tr>\n",
       "    <tr>\n",
       "      <th>v_init_apple</th>\n",
       "      <td>0.0 meter / second</td>\n",
       "    </tr>\n",
       "    <tr>\n",
       "      <th>dist_0</th>\n",
       "      <td>20 meter</td>\n",
       "    </tr>\n",
       "    <tr>\n",
       "      <th>v_term_apple</th>\n",
       "      <td>33.0 meter / second</td>\n",
       "    </tr>\n",
       "  </tbody>\n",
       "</table>\n",
       "</div>"
      ],
      "text/plain": [
       "h_0_clay                          1 meter\n",
       "h_0_apple                        30 meter\n",
       "mass_clay                  0.205 kilogram\n",
       "mass_apple                 0.205 kilogram\n",
       "area_clay             0.008635 meter ** 2\n",
       "area_apple            0.008635 meter ** 2\n",
       "g                 9.8 meter / second ** 2\n",
       "rho             1.2 kilogram / meter ** 3\n",
       "t_0                              0 second\n",
       "t_end                           30 second\n",
       "angle                           45 degree\n",
       "v_init_clay           20.0 meter / second\n",
       "v_init_apple           0.0 meter / second\n",
       "dist_0                           20 meter\n",
       "v_term_apple          33.0 meter / second\n",
       "dtype: object"
      ]
     },
     "execution_count": 50,
     "metadata": {},
     "output_type": "execute_result"
    }
   ],
   "source": [
    "params = Params(h_0_clay = 1 *m,\n",
    "                h_0_apple = 30 *m,\n",
    "                mass_clay = 0.205 * kg,\n",
    "                mass_apple = 0.205 *kg,\n",
    "                area_clay = 0.008635 * m**2,\n",
    "                area_apple = 0.008635 * m**2,\n",
    "                g = 9.8 * m/s**2,\n",
    "                rho = 1.2 * kg/m**3,\n",
    "                t_0 = 0 * s,\n",
    "                t_end = 30 * s,\n",
    "                angle = 45 *degree,\n",
    "                v_init_clay = 20 * m/s,\n",
    "                v_init_apple = 0*m/s,\n",
    "                dist_0 = 20*m,\n",
    "                v_term_apple = 33 *m/s)"
   ]
  },
  {
   "cell_type": "code",
   "execution_count": 51,
   "metadata": {},
   "outputs": [],
   "source": [
    "def make_system_apple (params):\n",
    "    \n",
    "    unpack (params)\n",
    "    \n",
    "    init = State(xa=P_0a.x, ya=P_0a.y, vxa=V_0a.x, vya=V_0a.y)\n",
    "    C_d_apple = 2 * mass_apple * g / (rho * area_apple * v_term_apple**2)    \n",
    "    \n",
    "    return System(init=init, g=g, mass_apple=mass_apple, rho=rho,\n",
    "                  C_d_apple=C_d_apple, area_apple=area_apple,\n",
    "                  t_0=t_0, t_end=t_end)"
   ]
  },
  {
   "cell_type": "code",
   "execution_count": 52,
   "metadata": {},
   "outputs": [],
   "source": [
    "def compute_initial_condition_apple(params):\n",
    "    \"\"\"Compute the initial values of L and P.\n",
    "    \"\"\"\n",
    "    unpack(params)\n",
    "    position_apple = Vector(dist_0, h_0_apple)\n",
    "    theta = angle.to(radian)\n",
    "    #xa, ya = pol2cart(theta, dist_0)\n",
    "    #_0 = Vector(xa, ya)\n",
    "    #P_0 = position_apple - L_0\n",
    "    V_0 = Vector(0, 0) * m/s\n",
    "    \n",
    "    params.set(P_0=P_0, V_0=V_0)"
   ]
  },
  {
   "cell_type": "code",
   "execution_count": 53,
   "metadata": {},
   "outputs": [
    {
     "data": {
      "text/html": [
       "[ 5.85786438 15.85786438] meter"
      ],
      "text/latex": [
       "$[ 5.85786438 15.85786438] meter$"
      ],
      "text/plain": [
       "<Quantity([ 5.85786438 15.85786438], 'meter')>"
      ]
     },
     "execution_count": 53,
     "metadata": {},
     "output_type": "execute_result"
    }
   ],
   "source": [
    "compute_initial_condition_apple(params)\n",
    "params.P_0"
   ]
  },
  {
   "cell_type": "code",
   "execution_count": null,
   "metadata": {},
   "outputs": [],
   "source": []
  },
  {
   "cell_type": "code",
   "execution_count": null,
   "metadata": {},
   "outputs": [],
   "source": []
  }
 ],
 "metadata": {
  "kernelspec": {
   "display_name": "Python 3",
   "language": "python",
   "name": "python3"
  },
  "language_info": {
   "codemirror_mode": {
    "name": "ipython",
    "version": 3
   },
   "file_extension": ".py",
   "mimetype": "text/x-python",
   "name": "python",
   "nbconvert_exporter": "python",
   "pygments_lexer": "ipython3",
   "version": "3.6.5"
  }
 },
 "nbformat": 4,
 "nbformat_minor": 2
}
