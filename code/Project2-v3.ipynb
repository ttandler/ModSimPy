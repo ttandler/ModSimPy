{
 "cells": [
  {
   "cell_type": "markdown",
   "metadata": {},
   "source": [
    "# PROJECT 2 : TEAM 11"
   ]
  },
  {
   "cell_type": "markdown",
   "metadata": {},
   "source": [
    "Members: Talia Tandler, SeungU Lyu"
   ]
  },
  {
   "cell_type": "code",
   "execution_count": 88,
   "metadata": {},
   "outputs": [],
   "source": [
    "# Configure Jupyter so figures appear in the notebook\n",
    "%matplotlib inline\n",
    "\n",
    "# Configure Jupyter to display the assigned value after an assignment\n",
    "%config InteractiveShell.ast_node_interactivity='last_expr_or_assign'\n",
    "\n",
    "# import functions from the modsim.py module\n",
    "from modsim import *\n",
    "import math"
   ]
  },
  {
   "cell_type": "markdown",
   "metadata": {},
   "source": [
    "http://www.worldometers.info/world-population/us-population/\n",
    "US pop in 2017 = 324,459,463\n",
    "\n",
    "https://wwwnc.cdc.gov/travel/yellowbook/2018/infectious-diseases-related-to-travel/measles-rubeola\n",
    "Measles incubation period 11 days average, infectious period 2-4 days before rash to after rash."
   ]
  },
  {
   "cell_type": "code",
   "execution_count": 89,
   "metadata": {},
   "outputs": [
    {
     "data": {
      "text/plain": [
       "0.091"
      ]
     },
     "execution_count": 89,
     "metadata": {},
     "output_type": "execute_result"
    }
   ],
   "source": [
    "pop = 999  #population\n",
    "init_im = 0.85    #initial immunity of the US population\n",
    "beta = 0.9        #assumed contact rate\n",
    "gamma = 1/7      #US recovery rate from measles\n",
    "sigma = 0.091     #US rate from exposure period of 11 days to infected"
   ]
  },
  {
   "cell_type": "markdown",
   "metadata": {},
   "source": [
    "## Question\n",
    "\n",
    "### What is the result of lowering the measles immunity rate in a small community during a outbreak?\n",
    "\n",
    "Measles is a highly infectious disease that can infect about 90% of people that come into contact with the patient. However, the disease is not common these days because of the MMR vaccination, which can effectively prevent people getting the disease. Due to the high vaccination rate, the United States was declared free of circulating measles in 2000. However there were 911 cases of measles between 2001 and 2011. These occurences arose due to individuals from other countries entering the U.S. with measles. Because of the disease's high infectious rate upon contact, herd immunity is considered very important for measles. \n",
    "\n",
    "In 2015, a measles outbreak occured at Disney World causing more than 159 people to be infected during a single outbreak. Only 50~86% people exposed to this outbreak were vaccinated, causing an even bigger outbreak. This vaccination was lower than it should have been due to Anti-Vaccination Movements in the U.S. These lower rates lowered the population immunity rate and caused the herd immunity to not function as expected. The starter of this movement, Andrew Wakefield, stated that the MMR vaccination can cause autism in newborn children because of the mercury content inside the specific vaccine. Due to this false research, many parents became concerned with the side effects of the vaccination and opted to not vaccinate their children with MMR. As a result, there was a decently sized generation of children susceptible to measles because they did not receive the vaccination at birth.\n",
    "\n",
    "This simulation utilizes an SEIR model to understand how varying the measles immunity rate in a community effects herd immunity.\n",
    "\n",
    "## Methodology\n",
    "\n",
    "In order to create this model, we:\n",
    "\n",
    "1. Did background research on the MMR vaccination and the measles diseases and found a set of constants we would implement in our model.\n",
    "2. Put the variables into a state function.\n",
    "3. Set the total population to 1000, with initial infection number as one person infected with measles.\n",
    "4. Ran the simulation based on the number measles infections every day.\n",
    "5. Set a condition where the measles outbreak ends when the number infected people is less than one person. \n",
    "6. Created graphs to visually represent our results."
   ]
  },
  {
   "cell_type": "code",
   "execution_count": 90,
   "metadata": {},
   "outputs": [],
   "source": [
    "def make_system (pop, init_im, beta, gamma, sigma):\n",
    "    \"\"\"Make a system object for the SCIR model\n",
    "    \n",
    "    pop: Total US population\n",
    "    init_im: Initial Population Immunity\n",
    "    gamm: recovery rate for infected people\n",
    "    sigma: rate of incubation group moving to infectious group\n",
    "    return: System object\"\"\"\n",
    "    \n",
    "    init = State(S = int(pop*(1 - init_im)), E = 0, I = 1, R = int(pop*init_im))\n",
    "    init /= np.sum(init)\n",
    "    #S: susceptible, E: exposed period, I: infected, R: recovered(immune to disease)\n",
    "    \n",
    "    t0 = 0\n",
    "    t_end = 365 #number of days in 1 year\n",
    "    \n",
    "    return System(init = init,\n",
    "                  beta = beta,\n",
    "                  gamma = gamma,\n",
    "                  sigma = sigma,\n",
    "                  t0 = t0,\n",
    "                  t_end = t_end,\n",
    "                  init_im = init_im)"
   ]
  },
  {
   "cell_type": "code",
   "execution_count": 91,
   "metadata": {},
   "outputs": [],
   "source": [
    "def update_func(state, time, system):\n",
    "    \"\"\"Update the SEIR model\n",
    "    \n",
    "    state: starting variables of SEIR\n",
    "    t: time step\n",
    "    system: includes alpha,beta,gamma,omega rates\n",
    "    contact: current contact number for the state\n",
    "    \n",
    "    \"\"\"\n",
    "    \n",
    "    unpack(system)\n",
    "    \n",
    "    s,e,i,r = state\n",
    "    \n",
    "#    if time>30 and i<0.001:\n",
    "#        e = 0\n",
    "#        i = 0\n",
    "            \n",
    "    #current population\n",
    "    total_pop = s+e+i+r\n",
    "    \n",
    "    #change rate for each status\n",
    "    ds = (-beta*s*i)/total_pop #change in number of people susceptible\n",
    "    de = ((beta*s*i)/total_pop) - sigma*e #change in number of people moving to exposed period\n",
    "    di = sigma*e - gamma*i     #change in people moving to infectious period\n",
    "    dr = gamma*i     #change in people recovered\n",
    "\n",
    "    s += ds      #number of people susceptible\n",
    "    e += de      #number of people exposed\n",
    "    i += di      #number of people infected\n",
    "    r += dr      #number of people recovered\n",
    "    \n",
    "    return State(S=s, E=e, I=i, R=r)"
   ]
  },
  {
   "cell_type": "code",
   "execution_count": 92,
   "metadata": {},
   "outputs": [],
   "source": [
    "def run_simulation(system, update_func):\n",
    "    \"\"\"Runs a simulation of the system.\n",
    "        \n",
    "    system: System object\n",
    "    update_func: function that updates state\n",
    "    \n",
    "    returns: TimeFrame\n",
    "    \"\"\"\n",
    "    unpack(system)\n",
    "    \n",
    "    #creates timeframe to save daily states\n",
    "    frame = TimeFrame(columns=init.index)\n",
    "    frame.row[t0] = init\n",
    "    \n",
    "    for time in linrange(t0, t_end):\n",
    "        frame.row[time+1] = update_func(frame.row[time], time, system)\n",
    "    \n",
    "    return frame"
   ]
  },
  {
   "cell_type": "code",
   "execution_count": 93,
   "metadata": {},
   "outputs": [],
   "source": [
    "def plot_results (S,E,I,R):\n",
    "    \n",
    "    plot(S, '--', label = 'Susceptible')\n",
    "    plot(E, '-', label = 'Exposed')\n",
    "    plot(I, '.', label = 'Infected')\n",
    "    plot(R, ':', label = 'Recovered')\n",
    "    decorate(xlabel='Time (days)',\n",
    "            ylabel = 'Fraction of population')"
   ]
  },
  {
   "cell_type": "code",
   "execution_count": 94,
   "metadata": {},
   "outputs": [],
   "source": [
    "init_im = 0.907\n",
    "system = make_system(pop, init_im, beta, gamma, sigma)\n",
    "results = run_simulation(system, update_func)\n",
    "results;\n",
    "#plot(results.I)"
   ]
  },
  {
   "cell_type": "code",
   "execution_count": 95,
   "metadata": {},
   "outputs": [
    {
     "data": {
      "image/png": "[encoded data removed]",
      "text/plain": [
       "<Figure size 432x288 with 1 Axes>"
      ]
     },
     "metadata": {},
     "output_type": "display_data"
    }
   ],
   "source": [
    "plot_results(results.S, results.E, results.I, results.R)\n",
    "decorate(title ='Figure 1')"
   ]
  },
  {
   "cell_type": "code",
   "execution_count": 96,
   "metadata": {},
   "outputs": [],
   "source": [
    "init_im2 = 0.3\n",
    "system = make_system(pop, init_im2, beta, gamma, sigma)\n",
    "results2 = run_simulation(system, update_func)\n",
    "results2;"
   ]
  },
  {
   "cell_type": "code",
   "execution_count": 97,
   "metadata": {},
   "outputs": [
    {
     "data": {
      "image/png": "[encoded data removed]",
      "text/plain": [
       "<Figure size 432x288 with 1 Axes>"
      ]
     },
     "metadata": {},
     "output_type": "display_data"
    }
   ],
   "source": [
    "plot_results(results2.S, results2.E, results2.I, results2.R)\n",
    "decorate (title = 'Figure 2')"
   ]
  },
  {
   "cell_type": "code",
   "execution_count": 98,
   "metadata": {},
   "outputs": [],
   "source": [
    "def calc_highest_infected(results):\n",
    "    \"\"\"Fraction of population infected during the simulation.\n",
    "    \n",
    "    results: DataFrame with columns S, I, R\n",
    "    \n",
    "    returns: fraction of population\n",
    "    \"\"\"\n",
    "    return max(results.I)"
   ]
  },
  {
   "cell_type": "code",
   "execution_count": 99,
   "metadata": {},
   "outputs": [],
   "source": [
    "def calc_fraction_infected(results):\n",
    "\n",
    "    return (get_first_value(results.S) - get_last_value(results.S))/get_first_value(results.S)"
   ]
  },
  {
   "cell_type": "code",
   "execution_count": 100,
   "metadata": {},
   "outputs": [],
   "source": [
    "def sweep_init_im(imun_rate_array):\n",
    "    \"\"\"Sweep a range of values for beta.\n",
    "    \n",
    "    beta_array: array of beta values\n",
    "    gamma: recovery rate\n",
    "    \n",
    "    returns: SweepSeries that maps from beta to total infected\n",
    "    \"\"\"\n",
    "    sweep = SweepSeries()\n",
    "    for init_im in imun_rate_array:\n",
    "        system = make_system(pop, init_im, beta, gamma, sigma)\n",
    "        results = run_simulation(system, update_func)\n",
    "        sweep[system.init_im] = calc_highest_infected(results)*pop\n",
    "    return sweep"
   ]
  },
  {
   "cell_type": "code",
   "execution_count": 101,
   "metadata": {},
   "outputs": [],
   "source": [
    "def sweep_init_im2(imun_rate_array):\n",
    "    \"\"\"Sweep a range of values for beta.\n",
    "    \n",
    "    beta_array: array of beta values\n",
    "    gamma: recovery rate\n",
    "    \n",
    "    returns: SweepSeries that maps from beta to total infected\n",
    "    \"\"\"\n",
    "    sweep = SweepSeries()\n",
    "    for init_im in imun_rate_array:\n",
    "        system = make_system(pop, init_im, beta, gamma, sigma)\n",
    "        results = run_simulation(system, update_func)\n",
    "        sweep[system.init_im] = calc_fraction_infected(results)*100\n",
    "    return sweep"
   ]
  },
  {
   "cell_type": "code",
   "execution_count": 102,
   "metadata": {},
   "outputs": [
    {
     "data": {
      "text/html": [
       "<div>\n",
       "<style scoped>\n",
       "    .dataframe tbody tr th:only-of-type {\n",
       "        vertical-align: middle;\n",
       "    }\n",
       "\n",
       "    .dataframe tbody tr th {\n",
       "        vertical-align: top;\n",
       "    }\n",
       "\n",
       "    .dataframe thead th {\n",
       "        text-align: right;\n",
       "    }\n",
       "</style>\n",
       "<table border=\"1\" class=\"dataframe\">\n",
       "  <thead>\n",
       "    <tr style=\"text-align: right;\">\n",
       "      <th></th>\n",
       "      <th>values</th>\n",
       "    </tr>\n",
       "  </thead>\n",
       "  <tbody>\n",
       "    <tr>\n",
       "      <th>0.0</th>\n",
       "      <td>208.313630</td>\n",
       "    </tr>\n",
       "    <tr>\n",
       "      <th>0.1</th>\n",
       "      <td>177.918762</td>\n",
       "    </tr>\n",
       "    <tr>\n",
       "      <th>0.2</th>\n",
       "      <td>147.602195</td>\n",
       "    </tr>\n",
       "    <tr>\n",
       "      <th>0.3</th>\n",
       "      <td>117.985077</td>\n",
       "    </tr>\n",
       "    <tr>\n",
       "      <th>0.4</th>\n",
       "      <td>89.378869</td>\n",
       "    </tr>\n",
       "    <tr>\n",
       "      <th>0.5</th>\n",
       "      <td>62.132854</td>\n",
       "    </tr>\n",
       "    <tr>\n",
       "      <th>0.6</th>\n",
       "      <td>37.160085</td>\n",
       "    </tr>\n",
       "    <tr>\n",
       "      <th>0.7</th>\n",
       "      <td>15.994027</td>\n",
       "    </tr>\n",
       "    <tr>\n",
       "      <th>0.8</th>\n",
       "      <td>2.115958</td>\n",
       "    </tr>\n",
       "    <tr>\n",
       "      <th>0.9</th>\n",
       "      <td>1.000000</td>\n",
       "    </tr>\n",
       "    <tr>\n",
       "      <th>1.0</th>\n",
       "      <td>0.999000</td>\n",
       "    </tr>\n",
       "  </tbody>\n",
       "</table>\n",
       "</div>"
      ],
      "text/plain": [
       "0.0    208.313630\n",
       "0.1    177.918762\n",
       "0.2    147.602195\n",
       "0.3    117.985077\n",
       "0.4     89.378869\n",
       "0.5     62.132854\n",
       "0.6     37.160085\n",
       "0.7     15.994027\n",
       "0.8      2.115958\n",
       "0.9      1.000000\n",
       "1.0      0.999000\n",
       "dtype: float64"
      ]
     },
     "execution_count": 102,
     "metadata": {},
     "output_type": "execute_result"
    }
   ],
   "source": [
    "imun_rate_array = linspace(0, 1, 11)\n",
    "sweep = sweep_init_im(imun_rate_array) \n",
    "sweep"
   ]
  },
  {
   "cell_type": "code",
   "execution_count": 103,
   "metadata": {},
   "outputs": [
    {
     "data": {
      "image/png": "[encoded data removed]",
      "text/plain": [
       "<Figure size 432x288 with 1 Axes>"
      ]
     },
     "metadata": {},
     "output_type": "display_data"
    }
   ],
   "source": [
    "plot(sweep)\n",
    "decorate(xlabel='Immunity Rate',\n",
    "        ylabel = 'Highest number of people infected during 1 outbreak',\n",
    "        title = 'Figure 3')"
   ]
  },
  {
   "cell_type": "code",
   "execution_count": 104,
   "metadata": {},
   "outputs": [
    {
     "name": "stderr",
     "output_type": "stream",
     "text": [
      "/anaconda3/lib/python3.6/site-packages/ipykernel_launcher.py:3: RuntimeWarning: invalid value encountered in double_scalars\n",
      "  This is separate from the ipykernel package so we can avoid doing imports until\n"
     ]
    },
    {
     "data": {
      "text/html": [
       "<div>\n",
       "<style scoped>\n",
       "    .dataframe tbody tr th:only-of-type {\n",
       "        vertical-align: middle;\n",
       "    }\n",
       "\n",
       "    .dataframe tbody tr th {\n",
       "        vertical-align: top;\n",
       "    }\n",
       "\n",
       "    .dataframe thead th {\n",
       "        text-align: right;\n",
       "    }\n",
       "</style>\n",
       "<table border=\"1\" class=\"dataframe\">\n",
       "  <thead>\n",
       "    <tr style=\"text-align: right;\">\n",
       "      <th></th>\n",
       "      <th>values</th>\n",
       "    </tr>\n",
       "  </thead>\n",
       "  <tbody>\n",
       "    <tr>\n",
       "      <th>0.00</th>\n",
       "      <td>99.880178</td>\n",
       "    </tr>\n",
       "    <tr>\n",
       "      <th>0.05</th>\n",
       "      <td>99.827227</td>\n",
       "    </tr>\n",
       "    <tr>\n",
       "      <th>0.10</th>\n",
       "      <td>99.749787</td>\n",
       "    </tr>\n",
       "    <tr>\n",
       "      <th>0.15</th>\n",
       "      <td>99.638624</td>\n",
       "    </tr>\n",
       "    <tr>\n",
       "      <th>0.20</th>\n",
       "      <td>99.479228</td>\n",
       "    </tr>\n",
       "    <tr>\n",
       "      <th>0.25</th>\n",
       "      <td>99.250722</td>\n",
       "    </tr>\n",
       "    <tr>\n",
       "      <th>0.30</th>\n",
       "      <td>98.922845</td>\n",
       "    </tr>\n",
       "    <tr>\n",
       "      <th>0.35</th>\n",
       "      <td>98.451307</td>\n",
       "    </tr>\n",
       "    <tr>\n",
       "      <th>0.40</th>\n",
       "      <td>97.770428</td>\n",
       "    </tr>\n",
       "    <tr>\n",
       "      <th>0.45</th>\n",
       "      <td>96.781122</td>\n",
       "    </tr>\n",
       "    <tr>\n",
       "      <th>0.50</th>\n",
       "      <td>95.330614</td>\n",
       "    </tr>\n",
       "    <tr>\n",
       "      <th>0.55</th>\n",
       "      <td>93.176706</td>\n",
       "    </tr>\n",
       "    <tr>\n",
       "      <th>0.60</th>\n",
       "      <td>89.921705</td>\n",
       "    </tr>\n",
       "    <tr>\n",
       "      <th>0.65</th>\n",
       "      <td>84.882799</td>\n",
       "    </tr>\n",
       "    <tr>\n",
       "      <th>0.70</th>\n",
       "      <td>76.817056</td>\n",
       "    </tr>\n",
       "    <tr>\n",
       "      <th>0.75</th>\n",
       "      <td>63.203631</td>\n",
       "    </tr>\n",
       "    <tr>\n",
       "      <th>0.80</th>\n",
       "      <td>36.598092</td>\n",
       "    </tr>\n",
       "    <tr>\n",
       "      <th>0.85</th>\n",
       "      <td>6.021095</td>\n",
       "    </tr>\n",
       "    <tr>\n",
       "      <th>0.90</th>\n",
       "      <td>1.642769</td>\n",
       "    </tr>\n",
       "    <tr>\n",
       "      <th>0.95</th>\n",
       "      <td>0.906914</td>\n",
       "    </tr>\n",
       "    <tr>\n",
       "      <th>1.00</th>\n",
       "      <td>NaN</td>\n",
       "    </tr>\n",
       "  </tbody>\n",
       "</table>\n",
       "</div>"
      ],
      "text/plain": [
       "0.00    99.880178\n",
       "0.05    99.827227\n",
       "0.10    99.749787\n",
       "0.15    99.638624\n",
       "0.20    99.479228\n",
       "0.25    99.250722\n",
       "0.30    98.922845\n",
       "0.35    98.451307\n",
       "0.40    97.770428\n",
       "0.45    96.781122\n",
       "0.50    95.330614\n",
       "0.55    93.176706\n",
       "0.60    89.921705\n",
       "0.65    84.882799\n",
       "0.70    76.817056\n",
       "0.75    63.203631\n",
       "0.80    36.598092\n",
       "0.85     6.021095\n",
       "0.90     1.642769\n",
       "0.95     0.906914\n",
       "1.00          NaN\n",
       "dtype: float64"
      ]
     },
     "execution_count": 104,
     "metadata": {},
     "output_type": "execute_result"
    }
   ],
   "source": [
    "imun_rate_array = linspace(0, 1, 21)\n",
    "sweep2 = sweep_init_im2(imun_rate_array) \n",
    "sweep2"
   ]
  },
  {
   "cell_type": "code",
   "execution_count": 105,
   "metadata": {},
   "outputs": [
    {
     "data": {
      "image/png": "[encoded data removed]",
      "text/plain": [
       "<Figure size 432x288 with 1 Axes>"
      ]
     },
     "metadata": {},
     "output_type": "display_data"
    }
   ],
   "source": [
    "plot(sweep2)\n",
    "decorate(xlabel='Immunity Rate',\n",
    "        ylabel = '% of susceptible people getting measles during an outbreak',\n",
    "        title = 'Figure 4')"
   ]
  },
  {
   "cell_type": "markdown",
   "metadata": {},
   "source": [
    "## Results\n",
    "\n",
    "This model uses SEIR methodology to examine how measels would spread throughout a community of 1000 individuals with varying immunity rates. Figure 1 depicts an SEIR representation based on a 85% measles immunity rate, equivalent to that of the immunity rate in the United States. Due to the high herd immunity rate, the number of individuals in each of the categories, susceptible, recovered, and infected remains constant throughout the simulated outbreak.\n",
    "\n",
    "Figure 2 represents an example of the SEIR model with an immunity rate of 30%. In this model, we can see that as the number of susceptible individuals decreases, the number of recovered individuals increases at an equal and opposite rate. The entire population is recovered from this measles outbreak within 150 days of the start.\n",
    "\n",
    "Figure 3 depicts the predicted outcome of this model that as the immunity rate in a community increases, the number of people infected during an outbreak will decrease. We see the number of infected individuals plateau around 80% immunity.\n",
    "\n",
    "Figure 4 depicts the percent of susceptible individuals that do contract measles during an outbreak. At low immunity rates (without herd immunity) a large percent of susceptible individuals do contract measles. As the immunity rate increases, this percentage decreases."
   ]
  },
  {
   "cell_type": "markdown",
   "metadata": {},
   "source": [
    "## Interpretation\n",
    "\n",
    "As expected, as the immunity rate in the community increased, the highest number of people infected with measles during an outbreak decreased. The number of people infected with measles begins to plateau between an 80 - 85% immunity rate. From the data that Figure 4 is based on we can see that the ideal immunity rate for a community is between 80 - 85%. Between these 2 numbers, the percent of susceptible individuals that contract measles drops sharply from 36% to 6%. Our initial immunity rate in this community was 85%, so this does align with what was predicted in the model.\n",
    "\n",
    "Our model does have several limitations:\n",
    "1. We were unable to find an effective contact number or contact rate for measles within the United States. Having this number would have enabled us to calculate beta instead of just assuming it to be 90%.\n",
    "\n",
    "2. The model gets to a point where less than 1 person is infected with measles. This is physically impossible as you cannot have less than one person. In our results, we interpreted less than 1 to mean the individual did not have measles. "
   ]
  },
  {
   "cell_type": "markdown",
   "metadata": {},
   "source": [
    "## Abstract\n",
    "\n",
    "In this model, we were seeking to find out the result of lowering the measles immunity rate in a small community during a outbreak. As predicted, we found that as the immunity rate in a community is lowered, the number of infections in a community increases. We also found that when immunity is between 80-85%, the number of individuals infected in a population begins to plateau. This finding indicated that the ideal immunity rate for a community of 1000 individuals is between 80-85%.\n"
   ]
  },
  {
   "cell_type": "code",
   "execution_count": null,
   "metadata": {},
   "outputs": [],
   "source": []
  }
 ],
 "metadata": {
  "kernelspec": {
   "display_name": "Python 3",
   "language": "python",
   "name": "python3"
  },
  "language_info": {
   "codemirror_mode": {
    "name": "ipython",
    "version": 3
   },
   "file_extension": ".py",
   "mimetype": "text/x-python",
   "name": "python",
   "nbconvert_exporter": "python",
   "pygments_lexer": "ipython3",
   "version": "3.6.5"
  }
 },
 "nbformat": 4,
 "nbformat_minor": 2
}
