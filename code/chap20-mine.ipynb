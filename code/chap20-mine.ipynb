{
 "cells": [
  {
   "cell_type": "markdown",
   "metadata": {},
   "source": [
    "# Modeling and Simulation in Python\n",
    "\n",
    "Chapter 20\n",
    "\n",
    "Copyright 2017 Allen Downey\n",
    "\n",
    "License: [Creative Commons Attribution 4.0 International](https://creativecommons.org/licenses/by/4.0)\n"
   ]
  },
  {
   "cell_type": "code",
   "execution_count": 1,
   "metadata": {},
   "outputs": [],
   "source": [
    "# Configure Jupyter so figures appear in the notebook\n",
    "%matplotlib inline\n",
    "\n",
    "# Configure Jupyter to display the assigned value after an assignment\n",
    "%config InteractiveShell.ast_node_interactivity='last_expr_or_assign'\n",
    "\n",
    "# import functions from the modsim.py module\n",
    "from modsim import *"
   ]
  },
  {
   "cell_type": "markdown",
   "metadata": {},
   "source": [
    "### Dropping pennies\n",
    "\n",
    "I'll start by getting the units we need from Pint."
   ]
  },
  {
   "cell_type": "code",
   "execution_count": 2,
   "metadata": {},
   "outputs": [
    {
     "data": {
      "text/html": [
       "second"
      ],
      "text/latex": [
       "$second$"
      ],
      "text/plain": [
       "<Unit('second')>"
      ]
     },
     "execution_count": 2,
     "metadata": {},
     "output_type": "execute_result"
    }
   ],
   "source": [
    "m = UNITS.meter\n",
    "s = UNITS.second"
   ]
  },
  {
   "cell_type": "markdown",
   "metadata": {},
   "source": [
    "And defining the initial state."
   ]
  },
  {
   "cell_type": "code",
   "execution_count": 3,
   "metadata": {
    "scrolled": true
   },
   "outputs": [
    {
     "data": {
      "text/html": [
       "<div>\n",
       "<style scoped>\n",
       "    .dataframe tbody tr th:only-of-type {\n",
       "        vertical-align: middle;\n",
       "    }\n",
       "\n",
       "    .dataframe tbody tr th {\n",
       "        vertical-align: top;\n",
       "    }\n",
       "\n",
       "    .dataframe thead th {\n",
       "        text-align: right;\n",
       "    }\n",
       "</style>\n",
       "<table border=\"1\" class=\"dataframe\">\n",
       "  <thead>\n",
       "    <tr style=\"text-align: right;\">\n",
       "      <th></th>\n",
       "      <th>values</th>\n",
       "    </tr>\n",
       "  </thead>\n",
       "  <tbody>\n",
       "    <tr>\n",
       "      <th>y</th>\n",
       "      <td>381 meter</td>\n",
       "    </tr>\n",
       "    <tr>\n",
       "      <th>v</th>\n",
       "      <td>0.0 meter / second</td>\n",
       "    </tr>\n",
       "  </tbody>\n",
       "</table>\n",
       "</div>"
      ],
      "text/plain": [
       "y             381 meter\n",
       "v    0.0 meter / second\n",
       "dtype: object"
      ]
     },
     "execution_count": 3,
     "metadata": {},
     "output_type": "execute_result"
    }
   ],
   "source": [
    "init = State(y=381 * m, \n",
    "             v=0 * m/s)"
   ]
  },
  {
   "cell_type": "markdown",
   "metadata": {},
   "source": [
    "Acceleration due to gravity is about 9.8 m / s$^2$."
   ]
  },
  {
   "cell_type": "code",
   "execution_count": 4,
   "metadata": {},
   "outputs": [
    {
     "data": {
      "text/html": [
       "9.8 meter/second<sup>2</sup>"
      ],
      "text/latex": [
       "$9.8 \\frac{meter}{second^{2}}$"
      ],
      "text/plain": [
       "<Quantity(9.8, 'meter / second ** 2')>"
      ]
     },
     "execution_count": 4,
     "metadata": {},
     "output_type": "execute_result"
    }
   ],
   "source": [
    "g = 9.8 * m/s**2"
   ]
  },
  {
   "cell_type": "markdown",
   "metadata": {},
   "source": [
    "When we call `odeint`, we need an array of timestamps where we want to compute the solution.\n",
    "\n",
    "I'll start with a duration of 10 seconds."
   ]
  },
  {
   "cell_type": "code",
   "execution_count": 5,
   "metadata": {},
   "outputs": [
    {
     "data": {
      "text/html": [
       "10 second"
      ],
      "text/latex": [
       "$10 second$"
      ],
      "text/plain": [
       "<Quantity(10, 'second')>"
      ]
     },
     "execution_count": 5,
     "metadata": {},
     "output_type": "execute_result"
    }
   ],
   "source": [
    "t_end = 10 * s"
   ]
  },
  {
   "cell_type": "markdown",
   "metadata": {},
   "source": [
    "Now we make a `System` object."
   ]
  },
  {
   "cell_type": "code",
   "execution_count": 6,
   "metadata": {},
   "outputs": [
    {
     "data": {
      "text/html": [
       "<div>\n",
       "<style scoped>\n",
       "    .dataframe tbody tr th:only-of-type {\n",
       "        vertical-align: middle;\n",
       "    }\n",
       "\n",
       "    .dataframe tbody tr th {\n",
       "        vertical-align: top;\n",
       "    }\n",
       "\n",
       "    .dataframe thead th {\n",
       "        text-align: right;\n",
       "    }\n",
       "</style>\n",
       "<table border=\"1\" class=\"dataframe\">\n",
       "  <thead>\n",
       "    <tr style=\"text-align: right;\">\n",
       "      <th></th>\n",
       "      <th>values</th>\n",
       "    </tr>\n",
       "  </thead>\n",
       "  <tbody>\n",
       "    <tr>\n",
       "      <th>init</th>\n",
       "      <td>y             381 meter\n",
       "v    0.0 meter / secon...</td>\n",
       "    </tr>\n",
       "    <tr>\n",
       "      <th>g</th>\n",
       "      <td>9.8 meter / second ** 2</td>\n",
       "    </tr>\n",
       "    <tr>\n",
       "      <th>t_end</th>\n",
       "      <td>10 second</td>\n",
       "    </tr>\n",
       "  </tbody>\n",
       "</table>\n",
       "</div>"
      ],
      "text/plain": [
       "init     y             381 meter\n",
       "v    0.0 meter / secon...\n",
       "g                                  9.8 meter / second ** 2\n",
       "t_end                                            10 second\n",
       "dtype: object"
      ]
     },
     "execution_count": 6,
     "metadata": {},
     "output_type": "execute_result"
    }
   ],
   "source": [
    "system = System(init=init, g=g, t_end=t_end)"
   ]
  },
  {
   "cell_type": "markdown",
   "metadata": {},
   "source": [
    "And define the slope function."
   ]
  },
  {
   "cell_type": "code",
   "execution_count": 7,
   "metadata": {},
   "outputs": [],
   "source": [
    "def slope_func(state, t, system):\n",
    "    \"\"\"Compute derivatives of the state.\n",
    "    \n",
    "    state: position, velocity\n",
    "    t: time\n",
    "    system: System object containing `g`\n",
    "    \n",
    "    returns: derivatives of y and v\n",
    "    \"\"\"\n",
    "    y, v = state\n",
    "    unpack(system)    \n",
    "\n",
    "    dydt = v\n",
    "    dvdt = -g\n",
    "    \n",
    "    return dydt, dvdt"
   ]
  },
  {
   "cell_type": "markdown",
   "metadata": {},
   "source": [
    "It's always a good idea to test the slope function with the initial conditions."
   ]
  },
  {
   "cell_type": "code",
   "execution_count": 8,
   "metadata": {},
   "outputs": [
    {
     "name": "stdout",
     "output_type": "stream",
     "text": [
      "0.0 meter / second\n",
      "-9.8 meter / second ** 2\n"
     ]
    }
   ],
   "source": [
    "dydt, dvdt = slope_func(init, 0, system)\n",
    "print(dydt)\n",
    "print(dvdt)"
   ]
  },
  {
   "cell_type": "markdown",
   "metadata": {},
   "source": [
    "Now we're ready to call `run_ode_solver`"
   ]
  },
  {
   "cell_type": "code",
   "execution_count": 9,
   "metadata": {},
   "outputs": [
    {
     "data": {
      "text/plain": [
       "'The solver successfully reached the end of the integration interval.'"
      ]
     },
     "execution_count": 9,
     "metadata": {},
     "output_type": "execute_result"
    }
   ],
   "source": [
    "results, details = run_ode_solver(system, slope_func, max_step=0.5*s)\n",
    "details.message"
   ]
  },
  {
   "cell_type": "markdown",
   "metadata": {},
   "source": [
    "Here are the results:"
   ]
  },
  {
   "cell_type": "code",
   "execution_count": 10,
   "metadata": {},
   "outputs": [
    {
     "data": {
      "text/html": [
       "<div>\n",
       "<style scoped>\n",
       "    .dataframe tbody tr th:only-of-type {\n",
       "        vertical-align: middle;\n",
       "    }\n",
       "\n",
       "    .dataframe tbody tr th {\n",
       "        vertical-align: top;\n",
       "    }\n",
       "\n",
       "    .dataframe thead th {\n",
       "        text-align: right;\n",
       "    }\n",
       "</style>\n",
       "<table border=\"1\" class=\"dataframe\">\n",
       "  <thead>\n",
       "    <tr style=\"text-align: right;\">\n",
       "      <th></th>\n",
       "      <th>y</th>\n",
       "      <th>v</th>\n",
       "    </tr>\n",
       "  </thead>\n",
       "  <tbody>\n",
       "    <tr>\n",
       "      <th>0.000000</th>\n",
       "      <td>381.000000</td>\n",
       "      <td>0.000000</td>\n",
       "    </tr>\n",
       "    <tr>\n",
       "      <th>0.000102</th>\n",
       "      <td>381.000000</td>\n",
       "      <td>-0.001000</td>\n",
       "    </tr>\n",
       "    <tr>\n",
       "      <th>0.001122</th>\n",
       "      <td>380.999994</td>\n",
       "      <td>-0.011000</td>\n",
       "    </tr>\n",
       "    <tr>\n",
       "      <th>0.011327</th>\n",
       "      <td>380.999371</td>\n",
       "      <td>-0.111000</td>\n",
       "    </tr>\n",
       "    <tr>\n",
       "      <th>0.113367</th>\n",
       "      <td>380.937025</td>\n",
       "      <td>-1.110997</td>\n",
       "    </tr>\n",
       "    <tr>\n",
       "      <th>0.613367</th>\n",
       "      <td>379.156526</td>\n",
       "      <td>-6.010997</td>\n",
       "    </tr>\n",
       "    <tr>\n",
       "      <th>1.113367</th>\n",
       "      <td>374.926028</td>\n",
       "      <td>-10.910997</td>\n",
       "    </tr>\n",
       "    <tr>\n",
       "      <th>1.613367</th>\n",
       "      <td>368.245529</td>\n",
       "      <td>-15.810997</td>\n",
       "    </tr>\n",
       "    <tr>\n",
       "      <th>2.113367</th>\n",
       "      <td>359.115031</td>\n",
       "      <td>-20.710997</td>\n",
       "    </tr>\n",
       "    <tr>\n",
       "      <th>2.613367</th>\n",
       "      <td>347.534532</td>\n",
       "      <td>-25.610997</td>\n",
       "    </tr>\n",
       "    <tr>\n",
       "      <th>3.113367</th>\n",
       "      <td>333.504034</td>\n",
       "      <td>-30.510997</td>\n",
       "    </tr>\n",
       "    <tr>\n",
       "      <th>3.613367</th>\n",
       "      <td>317.023535</td>\n",
       "      <td>-35.410997</td>\n",
       "    </tr>\n",
       "    <tr>\n",
       "      <th>4.113367</th>\n",
       "      <td>298.093036</td>\n",
       "      <td>-40.310997</td>\n",
       "    </tr>\n",
       "    <tr>\n",
       "      <th>4.613367</th>\n",
       "      <td>276.712538</td>\n",
       "      <td>-45.210997</td>\n",
       "    </tr>\n",
       "    <tr>\n",
       "      <th>5.113367</th>\n",
       "      <td>252.882039</td>\n",
       "      <td>-50.110997</td>\n",
       "    </tr>\n",
       "    <tr>\n",
       "      <th>5.613367</th>\n",
       "      <td>226.601541</td>\n",
       "      <td>-55.010997</td>\n",
       "    </tr>\n",
       "    <tr>\n",
       "      <th>6.113367</th>\n",
       "      <td>197.871042</td>\n",
       "      <td>-59.910997</td>\n",
       "    </tr>\n",
       "    <tr>\n",
       "      <th>6.613367</th>\n",
       "      <td>166.690544</td>\n",
       "      <td>-64.810997</td>\n",
       "    </tr>\n",
       "    <tr>\n",
       "      <th>7.113367</th>\n",
       "      <td>133.060045</td>\n",
       "      <td>-69.710997</td>\n",
       "    </tr>\n",
       "    <tr>\n",
       "      <th>7.613367</th>\n",
       "      <td>96.979547</td>\n",
       "      <td>-74.610997</td>\n",
       "    </tr>\n",
       "    <tr>\n",
       "      <th>8.113367</th>\n",
       "      <td>58.449048</td>\n",
       "      <td>-79.510997</td>\n",
       "    </tr>\n",
       "    <tr>\n",
       "      <th>8.613367</th>\n",
       "      <td>17.468550</td>\n",
       "      <td>-84.410997</td>\n",
       "    </tr>\n",
       "    <tr>\n",
       "      <th>9.113367</th>\n",
       "      <td>-25.961949</td>\n",
       "      <td>-89.310997</td>\n",
       "    </tr>\n",
       "    <tr>\n",
       "      <th>9.613367</th>\n",
       "      <td>-71.842448</td>\n",
       "      <td>-94.210997</td>\n",
       "    </tr>\n",
       "    <tr>\n",
       "      <th>10.000000</th>\n",
       "      <td>-109.000000</td>\n",
       "      <td>-98.000000</td>\n",
       "    </tr>\n",
       "  </tbody>\n",
       "</table>\n",
       "</div>"
      ],
      "text/plain": [
       "                    y          v\n",
       "0.000000   381.000000   0.000000\n",
       "0.000102   381.000000  -0.001000\n",
       "0.001122   380.999994  -0.011000\n",
       "0.011327   380.999371  -0.111000\n",
       "0.113367   380.937025  -1.110997\n",
       "0.613367   379.156526  -6.010997\n",
       "1.113367   374.926028 -10.910997\n",
       "1.613367   368.245529 -15.810997\n",
       "2.113367   359.115031 -20.710997\n",
       "2.613367   347.534532 -25.610997\n",
       "3.113367   333.504034 -30.510997\n",
       "3.613367   317.023535 -35.410997\n",
       "4.113367   298.093036 -40.310997\n",
       "4.613367   276.712538 -45.210997\n",
       "5.113367   252.882039 -50.110997\n",
       "5.613367   226.601541 -55.010997\n",
       "6.113367   197.871042 -59.910997\n",
       "6.613367   166.690544 -64.810997\n",
       "7.113367   133.060045 -69.710997\n",
       "7.613367    96.979547 -74.610997\n",
       "8.113367    58.449048 -79.510997\n",
       "8.613367    17.468550 -84.410997\n",
       "9.113367   -25.961949 -89.310997\n",
       "9.613367   -71.842448 -94.210997\n",
       "10.000000 -109.000000 -98.000000"
      ]
     },
     "execution_count": 10,
     "metadata": {},
     "output_type": "execute_result"
    }
   ],
   "source": [
    "results"
   ]
  },
  {
   "cell_type": "markdown",
   "metadata": {},
   "source": [
    "And here's position as a function of time:"
   ]
  },
  {
   "cell_type": "code",
   "execution_count": 11,
   "metadata": {},
   "outputs": [
    {
     "name": "stdout",
     "output_type": "stream",
     "text": [
      "Saving figure to file figs/chap09-fig01.pdf\n"
     ]
    },
    {
     "data": {
      "image/png": "[encoded data removed]",
      "text/plain": [
       "<Figure size 432x288 with 1 Axes>"
      ]
     },
     "metadata": {},
     "output_type": "display_data"
    }
   ],
   "source": [
    "def plot_position(results):\n",
    "    plot(results.y, label='y')\n",
    "    decorate(xlabel='Time (s)',\n",
    "             ylabel='Position (m)')\n",
    "\n",
    "plot_position(results)\n",
    "savefig('figs/chap09-fig01.pdf')"
   ]
  },
  {
   "cell_type": "markdown",
   "metadata": {},
   "source": [
    "### Onto the sidewalk\n",
    "\n",
    "To figure out when the penny hit the sidewalk, we can use `crossings`, which finds the times where a `Series` passes through a given value."
   ]
  },
  {
   "cell_type": "code",
   "execution_count": 12,
   "metadata": {},
   "outputs": [
    {
     "data": {
      "text/plain": [
       "array([8.81788535])"
      ]
     },
     "execution_count": 12,
     "metadata": {},
     "output_type": "execute_result"
    }
   ],
   "source": [
    "t_crossings = crossings(results.y, 0)"
   ]
  },
  {
   "cell_type": "markdown",
   "metadata": {},
   "source": [
    "For this example there should be just one crossing, the time when the penny hits the sidewalk."
   ]
  },
  {
   "cell_type": "code",
   "execution_count": 13,
   "metadata": {},
   "outputs": [
    {
     "data": {
      "text/html": [
       "8.817885349720552 second"
      ],
      "text/latex": [
       "$8.817885349720552 second$"
      ],
      "text/plain": [
       "<Quantity(8.817885349720552, 'second')>"
      ]
     },
     "execution_count": 13,
     "metadata": {},
     "output_type": "execute_result"
    }
   ],
   "source": [
    "t_sidewalk = t_crossings[0] * s"
   ]
  },
  {
   "cell_type": "markdown",
   "metadata": {},
   "source": [
    "We can compare that to the exact result.  Without air resistance, we have\n",
    "\n",
    "$v = -g t$\n",
    "\n",
    "and\n",
    "\n",
    "$y = 381 - g t^2 / 2$\n",
    "\n",
    "Setting $y=0$ and solving for $t$ yields\n",
    "\n",
    "$t = \\sqrt{\\frac{2 y_{init}}{g}}$"
   ]
  },
  {
   "cell_type": "code",
   "execution_count": 14,
   "metadata": {},
   "outputs": [
    {
     "data": {
      "text/html": [
       "8.817885349720552 second"
      ],
      "text/latex": [
       "$8.817885349720552 second$"
      ],
      "text/plain": [
       "<Quantity(8.817885349720552, 'second')>"
      ]
     },
     "execution_count": 14,
     "metadata": {},
     "output_type": "execute_result"
    }
   ],
   "source": [
    "sqrt(2 * init.y / g)"
   ]
  },
  {
   "cell_type": "markdown",
   "metadata": {},
   "source": [
    "The estimate is accurate to about 10 decimal places."
   ]
  },
  {
   "cell_type": "markdown",
   "metadata": {},
   "source": [
    "## Events\n",
    "\n",
    "Instead of running the simulation until the penny goes through the sidewalk, it would be better to detect the point where the penny hits the sidewalk and stop.  `run_ode_solver` provides exactly the tool we need, **event functions**.\n",
    "\n",
    "Here's an event function that returns the height of the penny above the sidewalk:"
   ]
  },
  {
   "cell_type": "code",
   "execution_count": 15,
   "metadata": {},
   "outputs": [],
   "source": [
    "def event_func(state, t, system):\n",
    "    \"\"\"Return the height of the penny above the sidewalk.\n",
    "    \"\"\"\n",
    "    y, v = state\n",
    "    return y"
   ]
  },
  {
   "cell_type": "markdown",
   "metadata": {},
   "source": [
    "And here's how we pass it to `run_ode_solver`.  The solver should run until the event function returns 0, and then terminate."
   ]
  },
  {
   "cell_type": "code",
   "execution_count": 16,
   "metadata": {},
   "outputs": [
    {
     "data": {
      "text/html": [
       "<div>\n",
       "<style scoped>\n",
       "    .dataframe tbody tr th:only-of-type {\n",
       "        vertical-align: middle;\n",
       "    }\n",
       "\n",
       "    .dataframe tbody tr th {\n",
       "        vertical-align: top;\n",
       "    }\n",
       "\n",
       "    .dataframe thead th {\n",
       "        text-align: right;\n",
       "    }\n",
       "</style>\n",
       "<table border=\"1\" class=\"dataframe\">\n",
       "  <thead>\n",
       "    <tr style=\"text-align: right;\">\n",
       "      <th></th>\n",
       "      <th>values</th>\n",
       "    </tr>\n",
       "  </thead>\n",
       "  <tbody>\n",
       "    <tr>\n",
       "      <th>sol</th>\n",
       "      <td>None</td>\n",
       "    </tr>\n",
       "    <tr>\n",
       "      <th>t_events</th>\n",
       "      <td>[[8.81788534972056]]</td>\n",
       "    </tr>\n",
       "    <tr>\n",
       "      <th>nfev</th>\n",
       "      <td>38</td>\n",
       "    </tr>\n",
       "    <tr>\n",
       "      <th>njev</th>\n",
       "      <td>0</td>\n",
       "    </tr>\n",
       "    <tr>\n",
       "      <th>nlu</th>\n",
       "      <td>0</td>\n",
       "    </tr>\n",
       "    <tr>\n",
       "      <th>status</th>\n",
       "      <td>1</td>\n",
       "    </tr>\n",
       "    <tr>\n",
       "      <th>message</th>\n",
       "      <td>A termination event occurred.</td>\n",
       "    </tr>\n",
       "    <tr>\n",
       "      <th>success</th>\n",
       "      <td>True</td>\n",
       "    </tr>\n",
       "  </tbody>\n",
       "</table>\n",
       "</div>"
      ],
      "text/plain": [
       "sol                                  None\n",
       "t_events             [[8.81788534972056]]\n",
       "nfev                                   38\n",
       "njev                                    0\n",
       "nlu                                     0\n",
       "status                                  1\n",
       "message     A termination event occurred.\n",
       "success                              True\n",
       "dtype: object"
      ]
     },
     "execution_count": 16,
     "metadata": {},
     "output_type": "execute_result"
    }
   ],
   "source": [
    "results, details = run_ode_solver(system, slope_func, events=event_func)\n",
    "details"
   ]
  },
  {
   "cell_type": "markdown",
   "metadata": {},
   "source": [
    "The message from the solver indicates the solver stopped because the event we wanted to detect happened.\n",
    "\n",
    "Here are the results:"
   ]
  },
  {
   "cell_type": "code",
   "execution_count": 17,
   "metadata": {},
   "outputs": [
    {
     "data": {
      "text/html": [
       "<div>\n",
       "<style scoped>\n",
       "    .dataframe tbody tr th:only-of-type {\n",
       "        vertical-align: middle;\n",
       "    }\n",
       "\n",
       "    .dataframe tbody tr th {\n",
       "        vertical-align: top;\n",
       "    }\n",
       "\n",
       "    .dataframe thead th {\n",
       "        text-align: right;\n",
       "    }\n",
       "</style>\n",
       "<table border=\"1\" class=\"dataframe\">\n",
       "  <thead>\n",
       "    <tr style=\"text-align: right;\">\n",
       "      <th></th>\n",
       "      <th>y</th>\n",
       "      <th>v</th>\n",
       "    </tr>\n",
       "  </thead>\n",
       "  <tbody>\n",
       "    <tr>\n",
       "      <th>0.000000</th>\n",
       "      <td>3.810000e+02</td>\n",
       "      <td>0.000000</td>\n",
       "    </tr>\n",
       "    <tr>\n",
       "      <th>0.000102</th>\n",
       "      <td>3.810000e+02</td>\n",
       "      <td>-0.001000</td>\n",
       "    </tr>\n",
       "    <tr>\n",
       "      <th>0.001122</th>\n",
       "      <td>3.810000e+02</td>\n",
       "      <td>-0.011000</td>\n",
       "    </tr>\n",
       "    <tr>\n",
       "      <th>0.011327</th>\n",
       "      <td>3.809994e+02</td>\n",
       "      <td>-0.111000</td>\n",
       "    </tr>\n",
       "    <tr>\n",
       "      <th>0.113367</th>\n",
       "      <td>3.809370e+02</td>\n",
       "      <td>-1.110997</td>\n",
       "    </tr>\n",
       "    <tr>\n",
       "      <th>1.133773</th>\n",
       "      <td>3.747013e+02</td>\n",
       "      <td>-11.110971</td>\n",
       "    </tr>\n",
       "    <tr>\n",
       "      <th>8.817885</th>\n",
       "      <td>5.684342e-14</td>\n",
       "      <td>-86.415276</td>\n",
       "    </tr>\n",
       "  </tbody>\n",
       "</table>\n",
       "</div>"
      ],
      "text/plain": [
       "                     y          v\n",
       "0.000000  3.810000e+02   0.000000\n",
       "0.000102  3.810000e+02  -0.001000\n",
       "0.001122  3.810000e+02  -0.011000\n",
       "0.011327  3.809994e+02  -0.111000\n",
       "0.113367  3.809370e+02  -1.110997\n",
       "1.133773  3.747013e+02 -11.110971\n",
       "8.817885  5.684342e-14 -86.415276"
      ]
     },
     "execution_count": 17,
     "metadata": {},
     "output_type": "execute_result"
    }
   ],
   "source": [
    "results"
   ]
  },
  {
   "cell_type": "markdown",
   "metadata": {},
   "source": [
    "With the `events` option, the solver returns the actual time steps it computed, which are not necessarily equally spaced. \n",
    "\n",
    "The last time step is when the event occurred:"
   ]
  },
  {
   "cell_type": "code",
   "execution_count": 18,
   "metadata": {},
   "outputs": [
    {
     "data": {
      "text/html": [
       "8.81788534972056 second"
      ],
      "text/latex": [
       "$8.81788534972056 second$"
      ],
      "text/plain": [
       "<Quantity(8.81788534972056, 'second')>"
      ]
     },
     "execution_count": 18,
     "metadata": {},
     "output_type": "execute_result"
    }
   ],
   "source": [
    "t_sidewalk = get_last_label(results) * s"
   ]
  },
  {
   "cell_type": "markdown",
   "metadata": {},
   "source": [
    "Unfortunately, `run_ode_solver` does not carry the units through the computation, so we have to put them back at the end.\n",
    "\n",
    "We could also get the time of the event from `details`, but it's a minor nuisance because it comes packed in an array:"
   ]
  },
  {
   "cell_type": "code",
   "execution_count": 19,
   "metadata": {},
   "outputs": [
    {
     "data": {
      "text/html": [
       "8.81788534972056 second"
      ],
      "text/latex": [
       "$8.81788534972056 second$"
      ],
      "text/plain": [
       "<Quantity(8.81788534972056, 'second')>"
      ]
     },
     "execution_count": 19,
     "metadata": {},
     "output_type": "execute_result"
    }
   ],
   "source": [
    "details.t_events[0][0] * s"
   ]
  },
  {
   "cell_type": "markdown",
   "metadata": {},
   "source": [
    "The result is accurate to about 15 decimal places.\n",
    "\n",
    "We can also check the velocity of the penny when it hits the sidewalk:"
   ]
  },
  {
   "cell_type": "code",
   "execution_count": 20,
   "metadata": {},
   "outputs": [
    {
     "data": {
      "text/html": [
       "-86.41527642726152 meter/second"
      ],
      "text/latex": [
       "$-86.41527642726152 \\frac{meter}{second}$"
      ],
      "text/plain": [
       "<Quantity(-86.41527642726152, 'meter / second')>"
      ]
     },
     "execution_count": 20,
     "metadata": {},
     "output_type": "execute_result"
    }
   ],
   "source": [
    "v_sidewalk = get_last_value(results.v) * m / s"
   ]
  },
  {
   "cell_type": "markdown",
   "metadata": {},
   "source": [
    "And convert to kilometers per hour."
   ]
  },
  {
   "cell_type": "code",
   "execution_count": 21,
   "metadata": {},
   "outputs": [
    {
     "data": {
      "text/html": [
       "-311.0949951381415 kilometer/hour"
      ],
      "text/latex": [
       "$-311.0949951381415 \\frac{kilometer}{hour}$"
      ],
      "text/plain": [
       "<Quantity(-311.0949951381415, 'kilometer / hour')>"
      ]
     },
     "execution_count": 21,
     "metadata": {},
     "output_type": "execute_result"
    }
   ],
   "source": [
    "km = UNITS.kilometer\n",
    "h = UNITS.hour\n",
    "v_sidewalk.to(km / h)"
   ]
  },
  {
   "cell_type": "markdown",
   "metadata": {},
   "source": [
    "If there were no air resistance, the penny would hit the sidewalk (or someone's head) at more than 300 km/h.\n",
    "\n",
    "So it's a good thing there is air resistance."
   ]
  },
  {
   "cell_type": "markdown",
   "metadata": {},
   "source": [
    "## Under the hood\n",
    "\n",
    "Here is the source code for `crossings` so you can see what's happening under the hood:"
   ]
  },
  {
   "cell_type": "code",
   "execution_count": 22,
   "metadata": {},
   "outputs": [],
   "source": [
    "%psource crossings"
   ]
  },
  {
   "cell_type": "markdown",
   "metadata": {},
   "source": [
    "The [documentation of InterpolatedUnivariateSpline is here](https://docs.scipy.org/doc/scipy/reference/generated/scipy.interpolate.InterpolatedUnivariateSpline.html).\n",
    "\n",
    "And you can read the [documentation of `scipy.integrate.solve_ivp`](https://docs.scipy.org/doc/scipy/reference/generated/scipy.integrate.solve_ivp.html) to learn more about how `run_ode_solver` works."
   ]
  },
  {
   "cell_type": "markdown",
   "metadata": {},
   "source": [
    "### Exercises\n",
    "\n",
    "**Exercise:** Here's a question from the web site [Ask an Astronomer](http://curious.astro.cornell.edu/about-us/39-our-solar-system/the-earth/other-catastrophes/57-how-long-would-it-take-the-earth-to-fall-into-the-sun-intermediate):\n",
    "\n",
    "\"If the Earth suddenly stopped orbiting the Sun, I know eventually it would be pulled in by the Sun's gravity and hit it. How long would it take the Earth to hit the Sun? I imagine it would go slowly at first and then pick up speed.\"\n",
    "\n",
    "Use `run_ode_solver` to answer this question.\n",
    "\n",
    "Here are some suggestions about how to proceed:\n",
    "\n",
    "1.  Look up the Law of Universal Gravitation and any constants you need.  I suggest you work entirely in SI units: meters, kilograms, and Newtons.\n",
    "\n",
    "2.  When the distance between the Earth and the Sun gets small, this system behaves badly, so you should use an event function to stop when the surface of Earth reaches the surface of the Sun.\n",
    "\n",
    "3. Express your answer in days, and plot the results as millions of kilometers versus days.\n",
    "\n",
    "If you read the reply by Dave Rothstein, you will see other ways to solve the problem, and a good discussion of the modeling decisions behind them.\n",
    "\n",
    "You might also be interested to know that [it's actually not that easy to get to the Sun](https://www.theatlantic.com/science/archive/2018/08/parker-solar-probe-launch-nasa/567197/)."
   ]
  },
  {
   "cell_type": "code",
   "execution_count": 105,
   "metadata": {},
   "outputs": [
    {
     "data": {
      "text/html": [
       "day"
      ],
      "text/latex": [
       "$day$"
      ],
      "text/plain": [
       "<Unit('day')>"
      ]
     },
     "execution_count": 105,
     "metadata": {},
     "output_type": "execute_result"
    }
   ],
   "source": [
    "N = UNITS.newton\n",
    "kg = UNITS.kilogram\n",
    "m = UNITS.meter\n",
    "AU = UNITS.astronomical_unit\n",
    "day = UNITS.day"
   ]
  },
  {
   "cell_type": "code",
   "execution_count": 106,
   "metadata": {},
   "outputs": [
    {
     "data": {
      "text/html": [
       "<div>\n",
       "<style scoped>\n",
       "    .dataframe tbody tr th:only-of-type {\n",
       "        vertical-align: middle;\n",
       "    }\n",
       "\n",
       "    .dataframe tbody tr th {\n",
       "        vertical-align: top;\n",
       "    }\n",
       "\n",
       "    .dataframe thead th {\n",
       "        text-align: right;\n",
       "    }\n",
       "</style>\n",
       "<table border=\"1\" class=\"dataframe\">\n",
       "  <thead>\n",
       "    <tr style=\"text-align: right;\">\n",
       "      <th></th>\n",
       "      <th>values</th>\n",
       "    </tr>\n",
       "  </thead>\n",
       "  <tbody>\n",
       "    <tr>\n",
       "      <th>r</th>\n",
       "      <td>149597870000 meter</td>\n",
       "    </tr>\n",
       "    <tr>\n",
       "      <th>v</th>\n",
       "      <td>0.0 meter / second</td>\n",
       "    </tr>\n",
       "  </tbody>\n",
       "</table>\n",
       "</div>"
      ],
      "text/plain": [
       "r    149597870000 meter\n",
       "v    0.0 meter / second\n",
       "dtype: object"
      ]
     },
     "execution_count": 106,
     "metadata": {},
     "output_type": "execute_result"
    }
   ],
   "source": [
    "init = State(r=149597870000 * m, \n",
    "             v=0 * m/s)"
   ]
  },
  {
   "cell_type": "code",
   "execution_count": 107,
   "metadata": {},
   "outputs": [
    {
     "data": {
      "text/html": [
       "1.989e+30 kilogram"
      ],
      "text/latex": [
       "$1.989e+30 kilogram$"
      ],
      "text/plain": [
       "<Quantity(1.989e+30, 'kilogram')>"
      ]
     },
     "execution_count": 107,
     "metadata": {},
     "output_type": "execute_result"
    }
   ],
   "source": [
    "mEarth = 5.972e24 * kg\n",
    "mSun = 1.989e30 *kg"
   ]
  },
  {
   "cell_type": "code",
   "execution_count": 108,
   "metadata": {},
   "outputs": [
    {
     "data": {
      "text/html": [
       "10000000000.0 second"
      ],
      "text/latex": [
       "$10000000000.0 second$"
      ],
      "text/plain": [
       "<Quantity(10000000000.0, 'second')>"
      ]
     },
     "execution_count": 108,
     "metadata": {},
     "output_type": "execute_result"
    }
   ],
   "source": [
    "t_0 = 0 *s\n",
    "t_end = 1e10 * s"
   ]
  },
  {
   "cell_type": "code",
   "execution_count": 109,
   "metadata": {},
   "outputs": [
    {
     "data": {
      "text/html": [
       "701879000.0 meter"
      ],
      "text/latex": [
       "$701879000.0 meter$"
      ],
      "text/plain": [
       "<Quantity(701879000.0, 'meter')>"
      ]
     },
     "execution_count": 109,
     "metadata": {},
     "output_type": "execute_result"
    }
   ],
   "source": [
    "G = 6.674e-11 * (N*m**2)/(kg**2)\n",
    "death = 6.371e6 * m + 695.508e6 * m"
   ]
  },
  {
   "cell_type": "code",
   "execution_count": 110,
   "metadata": {},
   "outputs": [
    {
     "data": {
      "text/html": [
       "<div>\n",
       "<style scoped>\n",
       "    .dataframe tbody tr th:only-of-type {\n",
       "        vertical-align: middle;\n",
       "    }\n",
       "\n",
       "    .dataframe tbody tr th {\n",
       "        vertical-align: top;\n",
       "    }\n",
       "\n",
       "    .dataframe thead th {\n",
       "        text-align: right;\n",
       "    }\n",
       "</style>\n",
       "<table border=\"1\" class=\"dataframe\">\n",
       "  <thead>\n",
       "    <tr style=\"text-align: right;\">\n",
       "      <th></th>\n",
       "      <th>values</th>\n",
       "    </tr>\n",
       "  </thead>\n",
       "  <tbody>\n",
       "    <tr>\n",
       "      <th>init</th>\n",
       "      <td>r    149597870000 meter\n",
       "v    0.0 meter / secon...</td>\n",
       "    </tr>\n",
       "    <tr>\n",
       "      <th>mEarth</th>\n",
       "      <td>5.972e+24 kilogram</td>\n",
       "    </tr>\n",
       "    <tr>\n",
       "      <th>mSun</th>\n",
       "      <td>1.989e+30 kilogram</td>\n",
       "    </tr>\n",
       "    <tr>\n",
       "      <th>G</th>\n",
       "      <td>6.674e-11 meter ** 2 * newton / kilogram ** 2</td>\n",
       "    </tr>\n",
       "    <tr>\n",
       "      <th>t_0</th>\n",
       "      <td>0 second</td>\n",
       "    </tr>\n",
       "    <tr>\n",
       "      <th>t_end</th>\n",
       "      <td>10000000000.0 second</td>\n",
       "    </tr>\n",
       "  </tbody>\n",
       "</table>\n",
       "</div>"
      ],
      "text/plain": [
       "init      r    149597870000 meter\n",
       "v    0.0 meter / secon...\n",
       "mEarth                                   5.972e+24 kilogram\n",
       "mSun                                     1.989e+30 kilogram\n",
       "G             6.674e-11 meter ** 2 * newton / kilogram ** 2\n",
       "t_0                                                0 second\n",
       "t_end                                  10000000000.0 second\n",
       "dtype: object"
      ]
     },
     "execution_count": 110,
     "metadata": {},
     "output_type": "execute_result"
    }
   ],
   "source": [
    "system = System(init=init,\n",
    "                mEarth = mEarth,\n",
    "                mSun = mSun,\n",
    "                G = G,\n",
    "                t_0 = t_0,\n",
    "                t_end=t_end)"
   ]
  },
  {
   "cell_type": "code",
   "execution_count": 111,
   "metadata": {},
   "outputs": [],
   "source": [
    "def universal_grav (state,system):\n",
    "    \n",
    "    r,v = state\n",
    "    unpack (system)\n",
    "    force = G * mEarth * mSun / r**2\n",
    "    \n",
    "    return force"
   ]
  },
  {
   "cell_type": "code",
   "execution_count": 112,
   "metadata": {},
   "outputs": [],
   "source": [
    "def slope_func(state, t, system):\n",
    "    \"\"\"Compute derivatives of the state.\n",
    "    \n",
    "    state: position, velocity\n",
    "    t: time\n",
    "    system: System object containing `g`\n",
    "    \n",
    "    returns: derivatives of y and v\n",
    "    \"\"\"\n",
    "    r, v = state\n",
    "    unpack(system) \n",
    "    \n",
    "    force = universal_grav(state,system)\n",
    "    drdt = v\n",
    "    dvdt = -force/mEarth\n",
    "    \n",
    "    return drdt, dvdt"
   ]
  },
  {
   "cell_type": "code",
   "execution_count": 113,
   "metadata": {},
   "outputs": [
    {
     "name": "stdout",
     "output_type": "stream",
     "text": [
      "0.0 meter / second\n",
      "-0.005931576903083939 newton / kilogram\n"
     ]
    }
   ],
   "source": [
    "drdt, dvdt = slope_func(init, 0, system)\n",
    "print(drdt)\n",
    "print(dvdt)"
   ]
  },
  {
   "cell_type": "code",
   "execution_count": 114,
   "metadata": {},
   "outputs": [],
   "source": [
    "def event_func(state, t, system):\n",
    "    \"\"\"Return the distance between the earth and the sun surfaces\n",
    "    \"\"\"\n",
    "    r, v = state\n",
    "    return r - death"
   ]
  },
  {
   "cell_type": "code",
   "execution_count": 115,
   "metadata": {},
   "outputs": [
    {
     "data": {
      "text/html": [
       "<div>\n",
       "<style scoped>\n",
       "    .dataframe tbody tr th:only-of-type {\n",
       "        vertical-align: middle;\n",
       "    }\n",
       "\n",
       "    .dataframe tbody tr th {\n",
       "        vertical-align: top;\n",
       "    }\n",
       "\n",
       "    .dataframe thead th {\n",
       "        text-align: right;\n",
       "    }\n",
       "</style>\n",
       "<table border=\"1\" class=\"dataframe\">\n",
       "  <thead>\n",
       "    <tr style=\"text-align: right;\">\n",
       "      <th></th>\n",
       "      <th>values</th>\n",
       "    </tr>\n",
       "  </thead>\n",
       "  <tbody>\n",
       "    <tr>\n",
       "      <th>sol</th>\n",
       "      <td>None</td>\n",
       "    </tr>\n",
       "    <tr>\n",
       "      <th>t_events</th>\n",
       "      <td>[[5577323.218666041]]</td>\n",
       "    </tr>\n",
       "    <tr>\n",
       "      <th>nfev</th>\n",
       "      <td>230</td>\n",
       "    </tr>\n",
       "    <tr>\n",
       "      <th>njev</th>\n",
       "      <td>0</td>\n",
       "    </tr>\n",
       "    <tr>\n",
       "      <th>nlu</th>\n",
       "      <td>0</td>\n",
       "    </tr>\n",
       "    <tr>\n",
       "      <th>status</th>\n",
       "      <td>1</td>\n",
       "    </tr>\n",
       "    <tr>\n",
       "      <th>message</th>\n",
       "      <td>A termination event occurred.</td>\n",
       "    </tr>\n",
       "    <tr>\n",
       "      <th>success</th>\n",
       "      <td>True</td>\n",
       "    </tr>\n",
       "  </tbody>\n",
       "</table>\n",
       "</div>"
      ],
      "text/plain": [
       "sol                                  None\n",
       "t_events            [[5577323.218666041]]\n",
       "nfev                                  230\n",
       "njev                                    0\n",
       "nlu                                     0\n",
       "status                                  1\n",
       "message     A termination event occurred.\n",
       "success                              True\n",
       "dtype: object"
      ]
     },
     "execution_count": 115,
     "metadata": {},
     "output_type": "execute_result"
    }
   ],
   "source": [
    "results, details = run_ode_solver(system, slope_func, events=event_func)\n",
    "details"
   ]
  },
  {
   "cell_type": "code",
   "execution_count": 132,
   "metadata": {},
   "outputs": [
    {
     "data": {
      "text/html": [
       "5577323.218666041 second"
      ],
      "text/latex": [
       "$5577323.218666041 second$"
      ],
      "text/plain": [
       "<Quantity(5577323.218666041, 'second')>"
      ]
     },
     "execution_count": 132,
     "metadata": {},
     "output_type": "execute_result"
    }
   ],
   "source": [
    "t_death = get_last_label(results) * s"
   ]
  },
  {
   "cell_type": "code",
   "execution_count": 130,
   "metadata": {},
   "outputs": [
    {
     "data": {
      "text/html": [
       "64.55235206789399 second/day"
      ],
      "text/latex": [
       "$64.55235206789399 \\frac{second}{day}$"
      ],
      "text/plain": [
       "<Quantity(64.55235206789399, 'second / day')>"
      ]
     },
     "execution_count": 130,
     "metadata": {},
     "output_type": "execute_result"
    }
   ],
   "source": [
    "t_death /= 60*60*24 * day"
   ]
  },
  {
   "cell_type": "code",
   "execution_count": 133,
   "metadata": {},
   "outputs": [
    {
     "data": {
      "text/html": [
       "64.55235206789398 day"
      ],
      "text/latex": [
       "$64.55235206789398 day$"
      ],
      "text/plain": [
       "<Quantity(64.55235206789398, 'day')>"
      ]
     },
     "execution_count": 133,
     "metadata": {},
     "output_type": "execute_result"
    }
   ],
   "source": [
    "t_death.to(UNITS.day)"
   ]
  },
  {
   "cell_type": "code",
   "execution_count": 118,
   "metadata": {},
   "outputs": [
    {
     "data": {
      "text/html": [
       "<div>\n",
       "<style scoped>\n",
       "    .dataframe tbody tr th:only-of-type {\n",
       "        vertical-align: middle;\n",
       "    }\n",
       "\n",
       "    .dataframe tbody tr th {\n",
       "        vertical-align: top;\n",
       "    }\n",
       "\n",
       "    .dataframe thead th {\n",
       "        text-align: right;\n",
       "    }\n",
       "</style>\n",
       "<table border=\"1\" class=\"dataframe\">\n",
       "  <thead>\n",
       "    <tr style=\"text-align: right;\">\n",
       "      <th></th>\n",
       "      <th>r</th>\n",
       "      <th>v</th>\n",
       "    </tr>\n",
       "  </thead>\n",
       "  <tbody>\n",
       "    <tr>\n",
       "      <th>0.000000e+00</th>\n",
       "      <td>1.495979e+11</td>\n",
       "      <td>0.000000</td>\n",
       "    </tr>\n",
       "    <tr>\n",
       "      <th>7.507044e-02</th>\n",
       "      <td>1.495979e+11</td>\n",
       "      <td>-0.000445</td>\n",
       "    </tr>\n",
       "    <tr>\n",
       "      <th>8.257748e-01</th>\n",
       "      <td>1.495979e+11</td>\n",
       "      <td>-0.004898</td>\n",
       "    </tr>\n",
       "    <tr>\n",
       "      <th>8.332819e+00</th>\n",
       "      <td>1.495979e+11</td>\n",
       "      <td>-0.049427</td>\n",
       "    </tr>\n",
       "    <tr>\n",
       "      <th>8.340326e+01</th>\n",
       "      <td>1.495979e+11</td>\n",
       "      <td>-0.494713</td>\n",
       "    </tr>\n",
       "    <tr>\n",
       "      <th>8.341077e+02</th>\n",
       "      <td>1.495979e+11</td>\n",
       "      <td>-4.947574</td>\n",
       "    </tr>\n",
       "    <tr>\n",
       "      <th>8.341152e+03</th>\n",
       "      <td>1.495977e+11</td>\n",
       "      <td>-49.476229</td>\n",
       "    </tr>\n",
       "    <tr>\n",
       "      <th>8.341159e+04</th>\n",
       "      <td>1.495772e+11</td>\n",
       "      <td>-494.807779</td>\n",
       "    </tr>\n",
       "    <tr>\n",
       "      <th>8.341160e+05</th>\n",
       "      <td>1.475248e+11</td>\n",
       "      <td>-4993.821445</td>\n",
       "    </tr>\n",
       "    <tr>\n",
       "      <th>3.521325e+06</th>\n",
       "      <td>1.090879e+11</td>\n",
       "      <td>-25666.538452</td>\n",
       "    </tr>\n",
       "    <tr>\n",
       "      <th>4.749549e+06</th>\n",
       "      <td>6.658091e+10</td>\n",
       "      <td>-47064.539855</td>\n",
       "    </tr>\n",
       "    <tr>\n",
       "      <th>5.171397e+06</th>\n",
       "      <td>4.329751e+10</td>\n",
       "      <td>-66031.088156</td>\n",
       "    </tr>\n",
       "    <tr>\n",
       "      <th>5.424508e+06</th>\n",
       "      <td>2.336962e+10</td>\n",
       "      <td>-97997.508560</td>\n",
       "    </tr>\n",
       "    <tr>\n",
       "      <th>5.474343e+06</th>\n",
       "      <td>1.813194e+10</td>\n",
       "      <td>-113512.951833</td>\n",
       "    </tr>\n",
       "    <tr>\n",
       "      <th>5.527604e+06</th>\n",
       "      <td>1.132776e+10</td>\n",
       "      <td>-147253.737024</td>\n",
       "    </tr>\n",
       "    <tr>\n",
       "      <th>5.562071e+06</th>\n",
       "      <td>5.317318e+09</td>\n",
       "      <td>-219976.361778</td>\n",
       "    </tr>\n",
       "    <tr>\n",
       "      <th>5.568047e+06</th>\n",
       "      <td>3.901152e+09</td>\n",
       "      <td>-257905.091148</td>\n",
       "    </tr>\n",
       "    <tr>\n",
       "      <th>5.573491e+06</th>\n",
       "      <td>2.321083e+09</td>\n",
       "      <td>-335967.402352</td>\n",
       "    </tr>\n",
       "    <tr>\n",
       "      <th>5.575974e+06</th>\n",
       "      <td>1.383932e+09</td>\n",
       "      <td>-436325.698576</td>\n",
       "    </tr>\n",
       "    <tr>\n",
       "      <th>5.577122e+06</th>\n",
       "      <td>8.207055e+08</td>\n",
       "      <td>-567559.705962</td>\n",
       "    </tr>\n",
       "    <tr>\n",
       "      <th>5.577323e+06</th>\n",
       "      <td>7.018790e+08</td>\n",
       "      <td>-613949.160488</td>\n",
       "    </tr>\n",
       "  </tbody>\n",
       "</table>\n",
       "</div>"
      ],
      "text/plain": [
       "                         r              v\n",
       "0.000000e+00  1.495979e+11       0.000000\n",
       "7.507044e-02  1.495979e+11      -0.000445\n",
       "8.257748e-01  1.495979e+11      -0.004898\n",
       "8.332819e+00  1.495979e+11      -0.049427\n",
       "8.340326e+01  1.495979e+11      -0.494713\n",
       "8.341077e+02  1.495979e+11      -4.947574\n",
       "8.341152e+03  1.495977e+11     -49.476229\n",
       "8.341159e+04  1.495772e+11    -494.807779\n",
       "8.341160e+05  1.475248e+11   -4993.821445\n",
       "3.521325e+06  1.090879e+11  -25666.538452\n",
       "4.749549e+06  6.658091e+10  -47064.539855\n",
       "5.171397e+06  4.329751e+10  -66031.088156\n",
       "5.424508e+06  2.336962e+10  -97997.508560\n",
       "5.474343e+06  1.813194e+10 -113512.951833\n",
       "5.527604e+06  1.132776e+10 -147253.737024\n",
       "5.562071e+06  5.317318e+09 -219976.361778\n",
       "5.568047e+06  3.901152e+09 -257905.091148\n",
       "5.573491e+06  2.321083e+09 -335967.402352\n",
       "5.575974e+06  1.383932e+09 -436325.698576\n",
       "5.577122e+06  8.207055e+08 -567559.705962\n",
       "5.577323e+06  7.018790e+08 -613949.160488"
      ]
     },
     "execution_count": 118,
     "metadata": {},
     "output_type": "execute_result"
    }
   ],
   "source": [
    "results"
   ]
  },
  {
   "cell_type": "code",
   "execution_count": 136,
   "metadata": {},
   "outputs": [],
   "source": [
    "ts = linspace(t_0, t_death, 201)\n",
    "results, details = run_ode_solver(system, slope_func, events=event_func, t_eval=ts)"
   ]
  },
  {
   "cell_type": "code",
   "execution_count": 137,
   "metadata": {},
   "outputs": [],
   "source": [
    "results.index /= 60*60*24"
   ]
  },
  {
   "cell_type": "code",
   "execution_count": 138,
   "metadata": {},
   "outputs": [],
   "source": [
    "results.r /= 1e9 #converts to millions of km"
   ]
  },
  {
   "cell_type": "code",
   "execution_count": 139,
   "metadata": {},
   "outputs": [
    {
     "name": "stdout",
     "output_type": "stream",
     "text": [
      "Saving figure to file figs/chap09-fig01.pdf\n"
     ]
    },
    {
     "data": {
      "image/png": "[encoded data removed]",
      "text/plain": [
       "<Figure size 432x288 with 1 Axes>"
      ]
     },
     "metadata": {},
     "output_type": "display_data"
    }
   ],
   "source": [
    "def plot_position(results):\n",
    "    plot(results.r, label='r')\n",
    "    decorate(xlabel='Time (day)',\n",
    "             ylabel='Distance from sun (million km)')\n",
    "\n",
    "plot_position(results)\n",
    "savefig('figs/chap09-fig01.pdf')"
   ]
  },
  {
   "cell_type": "code",
   "execution_count": 142,
   "metadata": {},
   "outputs": [
    {
     "data": {
      "text/html": [
       "-5.299261787082932e+33 meter newton"
      ],
      "text/latex": [
       "$-5.299261787082932e+33 meter \\cdot newton$"
      ],
      "text/plain": [
       "<Quantity(-5.299261787082932e+33, 'meter * newton')>"
      ]
     },
     "execution_count": 142,
     "metadata": {},
     "output_type": "execute_result"
    }
   ],
   "source": [
    "penergy_start = -G*mEarth*mSun/(149597870000*m)"
   ]
  },
  {
   "cell_type": "code",
   "execution_count": 143,
   "metadata": {},
   "outputs": [
    {
     "data": {
      "text/html": [
       "-1.129479975779301e+36 meter newton"
      ],
      "text/latex": [
       "$-1.129479975779301e+36 meter \\cdot newton$"
      ],
      "text/plain": [
       "<Quantity(-1.129479975779301e+36, 'meter * newton')>"
      ]
     },
     "execution_count": 143,
     "metadata": {},
     "output_type": "execute_result"
    }
   ],
   "source": [
    "penergy_end = -G*mEarth*mSun/death"
   ]
  },
  {
   "cell_type": "code",
   "execution_count": 152,
   "metadata": {},
   "outputs": [
    {
     "data": {
      "text/html": [
       "0.0 kilogram meter<sup>2</sup>/second<sup>2</sup>"
      ],
      "text/latex": [
       "$0.0 \\frac{kilogram \\cdot meter^{2}}{second^{2}}$"
      ],
      "text/plain": [
       "<Quantity(0.0, 'kilogram * meter ** 2 / second ** 2')>"
      ]
     },
     "execution_count": 152,
     "metadata": {},
     "output_type": "execute_result"
    }
   ],
   "source": [
    "kenergy_start = 0.5*mEarth*((get_first_value(results.v)*m/s)**2)"
   ]
  },
  {
   "cell_type": "code",
   "execution_count": 153,
   "metadata": {},
   "outputs": [
    {
     "data": {
      "text/html": [
       "1.1255236449872577e+36 kilogram meter<sup>2</sup>/second<sup>2</sup>"
      ],
      "text/latex": [
       "$1.1255236449872577e+36 \\frac{kilogram \\cdot meter^{2}}{second^{2}}$"
      ],
      "text/plain": [
       "<Quantity(1.1255236449872577e+36, 'kilogram * meter ** 2 / second ** 2')>"
      ]
     },
     "execution_count": 153,
     "metadata": {},
     "output_type": "execute_result"
    }
   ],
   "source": [
    "kenergy_end = 0.5*mEarth*((get_last_value(results.v)*m/s)**2)"
   ]
  },
  {
   "cell_type": "code",
   "execution_count": null,
   "metadata": {},
   "outputs": [],
   "source": []
  }
 ],
 "metadata": {
  "kernelspec": {
   "display_name": "Python 3",
   "language": "python",
   "name": "python3"
  },
  "language_info": {
   "codemirror_mode": {
    "name": "ipython",
    "version": 3
   },
   "file_extension": ".py",
   "mimetype": "text/x-python",
   "name": "python",
   "nbconvert_exporter": "python",
   "pygments_lexer": "ipython3",
   "version": "3.6.5"
  }
 },
 "nbformat": 4,
 "nbformat_minor": 2
}
